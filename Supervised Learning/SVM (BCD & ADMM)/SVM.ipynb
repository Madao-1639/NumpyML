{
 "cells": [
  {
   "cell_type": "code",
   "execution_count": 1,
   "metadata": {},
   "outputs": [],
   "source": [
    "import numpy as np\n",
    "import matplotlib.pyplot as plt"
   ]
  },
  {
   "attachments": {},
   "cell_type": "markdown",
   "metadata": {},
   "source": [
    "# BCD SVM"
   ]
  },
  {
   "cell_type": "code",
   "execution_count": 47,
   "metadata": {},
   "outputs": [],
   "source": [
    "class SVM:\n",
    "    def __init__(self,kernel='linear',C=1,**kernel_coef):\n",
    "        self.kernel=kernel\n",
    "        self.kernel_coef=kernel_coef\n",
    "        self.C=C\n",
    "\n",
    "    def kernelFun(self,x1,x2,method):\n",
    "        d=self.kernel_coef.get('d')\n",
    "        beta=self.kernel_coef.get('beta')\n",
    "        theta=self.kernel_coef.get('theta')\n",
    "        sigma=self.kernel_coef.get('sigma')\n",
    "        if method=='linear':\n",
    "            return x1@x2\n",
    "        elif method=='Polynomial':\n",
    "            return (x1@x2)**d\n",
    "        elif method=='Sigmoid':\n",
    "            return np.tanh(beta*(x1@x2)+theta)\n",
    "        elif method=='Gauss':\n",
    "                return np.exp(-np.linalg.norm(x1-x2)**2/(2*sigma**2))\n",
    "        elif method=='Laplace': \n",
    "            return np.exp(-np.linalg.norm(x1-x2)/sigma)\n",
    "    \n",
    "    def fit(self,X,y,iterations=2000):\n",
    "        m=y.size\n",
    "        if X.shape[0]==m:       # Standardize shape\n",
    "            X=X.T\n",
    "        if len(y.shape)>1:\n",
    "            y.reshape(m)\n",
    "        self.Xtrain=X\n",
    "        self.ytrain=y\n",
    "        \n",
    "        K=np.empty((m,m))       # Formulate K Matrix\n",
    "        if callable(self.kernel):\n",
    "            for i in range(m):\n",
    "                for j in range(m):\n",
    "                    K[i,j]=self.kernel(X[:,i],X[:,j])\n",
    "        else:\n",
    "            for i in range(m):\n",
    "                for j in range(m):\n",
    "                    K[i,j]=self.kernelFun(X[:,i],X[:,j],method=self.kernel)\n",
    "\n",
    "        self.b=0\n",
    "        self._lambda=np.zeros(m)\n",
    "        for iteration in range(iterations):\n",
    "            f=np.apply_along_axis(self.eval,axis=0,arr=X)\n",
    "            con1=(self._lambda==0)\n",
    "            con2=(self._lambda==self.C)\n",
    "            err=y*f-1\n",
    "            err[(con1 & (err>=0))|(con2 & (err<=0))|((~con1&~con2)&(err==0))]=0\n",
    "            if  (err==0).all():\n",
    "                break\n",
    "            i=(err**2).argmax()\n",
    "            temp=(f-f[i]).copy()\n",
    "            temp[i]=-np.inf\n",
    "            j=temp.argmax()\n",
    "\n",
    "            t=0\n",
    "            for k in range(m):\n",
    "                if k==i or k==j:\n",
    "                    continue\n",
    "                else:\n",
    "                    t-=self._lambda[k]*y[k]\n",
    "\n",
    "            if y[i]==y[j]:\n",
    "                H=min(self.C,self._lambda[i]+self._lambda[j])               # Higher Bound\n",
    "                L=max(0,self._lambda[i]+self._lambda[j]-self.C)             # Lower Bound\n",
    "            else:\n",
    "                H=min(self.C,self.C+self._lambda[i]-self._lambda[j])\n",
    "                L=max(0,self._lambda[i]-self._lambda[j])\n",
    "\n",
    "            # if y[i]==y[j]:\n",
    "            #     H=min(self.C,self.C-y[j]*t) # Higher Bound\n",
    "            #     L=max(0,-y[j]*t)            # Lower Bound\n",
    "            # else:\n",
    "            #     H=min(self.C,y[j]*t)\n",
    "            #     L=max(0,y[j]*t-self.C)\n",
    "\n",
    "            _lambda_i_hat=self._lambda[i]+\\\n",
    "                y[i]*((f[j]-y[j])-(f[i]-y[i]))/(K[i,i]+K[j,j]-2*K[i,j])\n",
    "            if _lambda_i_hat>H:             # Project lambda_i\n",
    "                self._lambda[i]=H\n",
    "            elif _lambda_i_hat<L:\n",
    "                self._lambda[i]=L\n",
    "            else:\n",
    "                self._lambda[i]=_lambda_i_hat\n",
    "            self._lambda[j]=y[j]*(t-self._lambda[i]*y[i])\n",
    "\n",
    "            b_i=y[i]                        # Update b\n",
    "            for k in range(m):\n",
    "                b_i-=self._lambda[k]*y[k]*K[i,k]\n",
    "            b_j=y[j]                        # Update b\n",
    "            for k in range(m):\n",
    "                b_j-=self._lambda[k]*y[k]*K[j,k]\n",
    "            self.b=(b_i+b_j)/2\n",
    "\n",
    "        if self.kernel=='linear':\n",
    "            self.w=np.zeros(X.shape[0])\n",
    "            for i in range(m):\n",
    "                self.w+=self._lambda[i]*y[i]*X[:,i]\n",
    "    \n",
    "\n",
    "    def eval(self, x):\n",
    "        y_pred=self.b\n",
    "        if callable(self.kernel):\n",
    "            for i in range(self.ytrain.size):\n",
    "                y_pred+=self._lambda[i]*self.ytrain[i]*self.kernel(self.Xtrain[:,i],x)\n",
    "        elif self.kernel=='linear' and hasattr(self,'w'):   # Simplify calculation\n",
    "                y_pred+=self.w@x\n",
    "        else:\n",
    "            for i in range(self.ytrain.size):\n",
    "                y_pred+=self._lambda[i]*self.ytrain[i]*\\\n",
    "                    self.kernelFun(self.Xtrain[:,i],x,method=self.kernel)\n",
    "        return y_pred\n",
    "    \n",
    "    def predict(self,x):\n",
    "        reg=self.eval(x)\n",
    "        if reg<0:\n",
    "            return -1\n",
    "        else:\n",
    "            return 1\n"
   ]
  },
  {
   "attachments": {},
   "cell_type": "markdown",
   "metadata": {},
   "source": [
    "# ADMM SVM"
   ]
  },
  {
   "cell_type": "code",
   "execution_count": 38,
   "metadata": {},
   "outputs": [],
   "source": [
    "class ADMMsvm(SVM):\n",
    "    def fit(self,X,y,rho=0.5,iterations=5000):\n",
    "        self.rho=rho\n",
    "        m=y.size\n",
    "        if X.shape[0]==m:\n",
    "            X=X.T\n",
    "        if len(y.shape)>1:\n",
    "            y.reshape(m)\n",
    "        self.Xtrain=X\n",
    "        self.ytrain=y\n",
    "\n",
    "        K=np.empty((m,m))\n",
    "        if callable(self.kernel):\n",
    "            for i in range(m):\n",
    "                for j in range(m):\n",
    "                    K[i,j]=self.kernel(X[:,i],X[:,j])\n",
    "        else:\n",
    "            for i in range(m):\n",
    "                for j in range(m):\n",
    "                    K[i,j]=self.kernelFun(X[:,i],X[:,j],method=self.kernel)\n",
    "\n",
    "        Y=np.diag(y)\n",
    "        _lambda=np.zeros(m)\n",
    "        _mu=np.zeros(m+1)\n",
    "        _z=Y@_lambda\n",
    "\n",
    "        augI=np.eye(m,m+1)\n",
    "        augY=np.column_stack((Y,y))\n",
    "        invM4z=np.linalg.inv(K+rho+np.eye(m))\n",
    "        invM4lmbda=np.linalg.inv(Y**2+np.outer(y,y))\n",
    "        oneDrho=np.ones(m)/rho\n",
    "        Gamma1=np.row_stack((Y,y))\n",
    "        Gamma2=np.eye(m+1,m)\n",
    "        for iteration in range(iterations):\n",
    "            _z=rho*invM4z@(Y@_lambda+augI@_mu)\n",
    "            _lambda_hat=invM4lmbda@(oneDrho+Y@_z-augY@_mu)\n",
    "            _lambda=_lambda_hat\n",
    "            _lambda[_lambda_hat<0]=0\n",
    "            _lambda[_lambda_hat>self.C]=self.C\n",
    "            _mu=_mu+Gamma1@_lambda-Gamma2@_z\n",
    "        self._z=_z\n",
    "        self._lambda=_lambda\n",
    "        self._mu=_mu\n",
    "\n",
    "        is_support_vector=(_lambda<self.C) & (_lambda>0)\n",
    "        if self.kernel=='linear':\n",
    "            self.w=np.zeros(X.shape[0])\n",
    "            for i in range(m):\n",
    "                self.w+=_lambda[i]*y[i]*X[:,i]\n",
    "            self.b=y[is_support_vector].mean()-\\\n",
    "                self.w@X[:,is_support_vector].mean(axis=1)\n",
    "        else:\n",
    "            self.b=0\n",
    "            for i in range(m):\n",
    "                if is_support_vector[i]:\n",
    "                    temp=y[i]\n",
    "                    for j in range(m):\n",
    "                        temp-=_lambda[i]*y[i]*K[i,j]\n",
    "                self.b+=temp\n",
    "            self.b=self.b/is_support_vector.sum()"
   ]
  },
  {
   "attachments": {},
   "cell_type": "markdown",
   "metadata": {},
   "source": [
    "# test"
   ]
  },
  {
   "attachments": {},
   "cell_type": "markdown",
   "metadata": {},
   "source": [
    "## data"
   ]
  },
  {
   "cell_type": "code",
   "execution_count": 4,
   "metadata": {},
   "outputs": [],
   "source": [
    "# if __name__=='__main__':\n",
    "n=100\n",
    "np.random.seed(42)\n",
    "\n",
    "#以随机生成分界线，在两侧随机生成数据\n",
    "random1=np.random.random(2)#随机分界线的法向量\n",
    "random2=20*np.random.random(n)-10#分界线两侧数据的偏移量\n",
    "x1=20*np.random.random(n)-10\n",
    "x2=x1*random1[0]/random1[1]+random2\n",
    "x=np.array(list(zip(x1,x2)))\n",
    "y=np.zeros(n)\n",
    "y[random2>0]=1#设分界线上方的点标签为1\n",
    "y[random2<0]=-1#设分界线下方的点标签为-1"
   ]
  },
  {
   "attachments": {},
   "cell_type": "markdown",
   "metadata": {},
   "source": [
    "## BCD SVM"
   ]
  },
  {
   "cell_type": "code",
   "execution_count": 48,
   "metadata": {},
   "outputs": [],
   "source": [
    "svm=SVM()\n",
    "svm.fit(x,y)\n",
    "y_pred=np.empty(n)\n",
    "for i in range(n):\n",
    "    y_pred[i]=svm.predict(x[i,:])"
   ]
  },
  {
   "attachments": {},
   "cell_type": "markdown",
   "metadata": {},
   "source": [
    "## ADMM SVM"
   ]
  },
  {
   "cell_type": "code",
   "execution_count": 39,
   "metadata": {},
   "outputs": [],
   "source": [
    "Asvm=ADMMsvm()\n",
    "Asvm.fit(x,y)\n",
    "Ay_pred=np.empty(n)\n",
    "for i in range(n):\n",
    "    Ay_pred[i]=Asvm.predict(x[i,:])"
   ]
  },
  {
   "attachments": {},
   "cell_type": "markdown",
   "metadata": {},
   "source": [
    "## sklearn"
   ]
  },
  {
   "cell_type": "code",
   "execution_count": 6,
   "metadata": {},
   "outputs": [],
   "source": [
    "from sklearn.svm import SVC\n",
    "skSVM=SVC()\n",
    "skSVM.fit(x,y)\n",
    "sky_pred=np.empty(n)\n",
    "for i in range(n):\n",
    "    sky_pred[i]=skSVM.predict(x[[i],:])"
   ]
  },
  {
   "attachments": {},
   "cell_type": "markdown",
   "metadata": {},
   "source": [
    "## Comparision"
   ]
  },
  {
   "cell_type": "code",
   "execution_count": 46,
   "metadata": {},
   "outputs": [
    {
     "data": {
      "text/plain": [
       "2"
      ]
     },
     "execution_count": 46,
     "metadata": {},
     "output_type": "execute_result"
    }
   ],
   "source": [
    "(y!=y_pred).sum()"
   ]
  },
  {
   "cell_type": "code",
   "execution_count": 40,
   "metadata": {},
   "outputs": [
    {
     "data": {
      "text/plain": [
       "0"
      ]
     },
     "execution_count": 40,
     "metadata": {},
     "output_type": "execute_result"
    }
   ],
   "source": [
    "(y!=Ay_pred).sum()"
   ]
  },
  {
   "cell_type": "code",
   "execution_count": 8,
   "metadata": {},
   "outputs": [
    {
     "data": {
      "text/plain": [
       "0"
      ]
     },
     "execution_count": 8,
     "metadata": {},
     "output_type": "execute_result"
    }
   ],
   "source": [
    "(y!=sky_pred).sum()"
   ]
  }
 ],
 "metadata": {
  "kernelspec": {
   "display_name": "base",
   "language": "python",
   "name": "python3"
  },
  "language_info": {
   "codemirror_mode": {
    "name": "ipython",
    "version": 3
   },
   "file_extension": ".py",
   "mimetype": "text/x-python",
   "name": "python",
   "nbconvert_exporter": "python",
   "pygments_lexer": "ipython3",
   "version": "3.9.12"
  },
  "orig_nbformat": 4
 },
 "nbformat": 4,
 "nbformat_minor": 2
}
